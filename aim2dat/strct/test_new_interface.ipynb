{
 "cells": [
  {
   "cell_type": "code",
   "execution_count": 1,
   "id": "cb43e68e",
   "metadata": {},
   "outputs": [],
   "source": [
    "from ase.spacegroup import crystal\n",
    "\n",
    "### GaAs\n",
    "a = 4.066 * 2.0\n",
    "GaAs_prim = crystal(\n",
    "    (\"Ga\", \"As\"),\n",
    "    basis=((0.0, 0.0, 0.0), (0.75, 0.75, 0.75)),\n",
    "    spacegroup=216,\n",
    "    cellpar=[a, a, a, 90, 90, 90],\n",
    "    primitive_cell=True,\n",
    ")\n",
    "GaAs_conv = crystal(\n",
    "    (\"Ga\", \"As\"),\n",
    "    basis=((0.0, 0.0, 0.0), (0.75, 0.75, 0.75)),\n",
    "    spacegroup=216,\n",
    "    cellpar=[a, a, a, 90, 90, 90],\n",
    "    primitive_cell=False,\n",
    ")"
   ]
  },
  {
   "cell_type": "code",
   "execution_count": 2,
   "id": "included-nation",
   "metadata": {},
   "outputs": [
    {
     "name": "stderr",
     "output_type": "stream",
     "text": [
      "/Users/treents/.aiida_venvs/dev_aim2dat/lib/python3.11/site-packages/tqdm/auto.py:21: TqdmWarning: IProgress not found. Please update jupyter and ipywidgets. See https://ipywidgets.readthedocs.io/en/stable/user_install.html\n",
      "  from .autonotebook import tqdm as notebook_tqdm\n"
     ]
    }
   ],
   "source": [
    "from aim2dat.strct import StructureCollection\n",
    "\n",
    "strct_collection = StructureCollection()\n",
    "strct_collection.append_from_ase_atoms(\"GaAs 216 prim\", GaAs_prim)\n",
    "strct_collection.append_from_ase_atoms(\"GaAs 216 conv\", GaAs_conv)"
   ]
  },
  {
   "cell_type": "code",
   "execution_count": 3,
   "id": "personalized-vaccine",
   "metadata": {},
   "outputs": [
    {
     "data": {
      "text/plain": [
       "1.1102230246251565e-16"
      ]
     },
     "execution_count": 3,
     "metadata": {},
     "output_type": "execute_result"
    }
   ],
   "source": [
    "from aim2dat.strct import StructureOperations\n",
    "\n",
    "strct_op = StructureOperations(structures=strct_collection)\n",
    "strct_op.compare_structures_via_ffingerprint(\"GaAs 216 prim\", \"GaAs 216 conv\", use_weights=True)"
   ]
  },
  {
   "cell_type": "code",
   "execution_count": 4,
   "id": "c8875fd4",
   "metadata": {},
   "outputs": [],
   "source": [
    "_ = strct_op[\"GaAs 216 prim\"].calculate_ffingerprint()"
   ]
  },
  {
   "cell_type": "code",
   "execution_count": 5,
   "id": "84190f6c",
   "metadata": {},
   "outputs": [
    {
     "data": {
      "text/plain": [
       "True"
      ]
     },
     "execution_count": 5,
     "metadata": {},
     "output_type": "execute_result"
    }
   ],
   "source": [
    "strct_op.append_to_coll"
   ]
  },
  {
   "cell_type": "code",
   "execution_count": 6,
   "id": "1a66bf14",
   "metadata": {},
   "outputs": [
    {
     "data": {
      "text/plain": [
       "['GaAs 216 prim', 'GaAs 216 conv']"
      ]
     },
     "execution_count": 6,
     "metadata": {},
     "output_type": "execute_result"
    }
   ],
   "source": [
    "strct_op.structures.labels"
   ]
  },
  {
   "cell_type": "markdown",
   "id": "9d32872f",
   "metadata": {},
   "source": [
    "# Manipulate the first structure"
   ]
  },
  {
   "cell_type": "code",
   "execution_count": 7,
   "id": "7f219456",
   "metadata": {},
   "outputs": [
    {
     "data": {
      "text/plain": [
       "<aim2dat.strct.strct.Structure at 0x15f820150>"
      ]
     },
     "execution_count": 7,
     "metadata": {},
     "output_type": "execute_result"
    }
   ],
   "source": [
    "strct_op[1].scale_unit_cell(1.5, True)"
   ]
  },
  {
   "cell_type": "code",
   "execution_count": 8,
   "id": "d04eba5b",
   "metadata": {},
   "outputs": [
    {
     "data": {
      "text/plain": [
       "['GaAs 216 prim', 'GaAs 216 conv', 'GaAs 216 conv_scaled-1.5']"
      ]
     },
     "execution_count": 8,
     "metadata": {},
     "output_type": "execute_result"
    }
   ],
   "source": [
    "strct_op.structures.labels"
   ]
  },
  {
   "cell_type": "markdown",
   "id": "864c1ca4",
   "metadata": {},
   "source": [
    "Indeed, we append to the initial `StructureCollection`, although we were working on a `StructureOperations` subset"
   ]
  },
  {
   "cell_type": "code",
   "execution_count": 9,
   "id": "aea3b8fe",
   "metadata": {},
   "outputs": [
    {
     "data": {
      "text/plain": [
       "['GaAs 216 prim', 'GaAs 216 conv', 'GaAs 216 conv_scaled-1.5']"
      ]
     },
     "execution_count": 9,
     "metadata": {},
     "output_type": "execute_result"
    }
   ],
   "source": [
    "strct_collection.labels"
   ]
  }
 ],
 "metadata": {
  "kernelspec": {
   "display_name": "Python 3 (ipykernel)",
   "language": "python",
   "name": "python3"
  },
  "language_info": {
   "codemirror_mode": {
    "name": "ipython",
    "version": 3
   },
   "file_extension": ".py",
   "mimetype": "text/x-python",
   "name": "python",
   "nbconvert_exporter": "python",
   "pygments_lexer": "ipython3",
   "version": "3.11.6"
  }
 },
 "nbformat": 4,
 "nbformat_minor": 5
}
