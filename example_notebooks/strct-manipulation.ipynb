{
 "cells": [
  {
   "cell_type": "markdown",
   "id": "b1c2316f",
   "metadata": {},
   "source": [
    "# Adding and Rotating Molecules in Crystals\n",
    "\n",
    "This notebook demonstrates how to use the `add_structure_position` and `rotate_structure` functions to add a molecule at a certain position and rotates it around a certain point. Additionally, a whole sub structure will be rotated around a given vector.\n",
    "\n",
    "- **UniforStrainng**: Appliestrainor uniformly across all lattice directionsn.\n",
    "- **Anisotropic Strain**: Applies strain along each lattice axis individually.\n",
    "- **Strain and Shear Transformations**: Utilizes a strain tensor to apply anisotrotrain and shear."
   ]
  },
  {
   "cell_type": "markdown",
   "id": "cb851f6e-c968-4000-8975-ad08204b9b85",
   "metadata": {},
   "source": [
    "### Loading Framework and Molecule\n",
    "\n",
    "- Load the framework \"PBI3\" from `PBI3.xyz` via `from_file` with the `Structure` class.\n",
    "- Load the molecule \"CN2H5\" from `CN2H5.xyz` via `from_file` with the `Structure` class.\n"
   ]
  },
  {
   "cell_type": "code",
   "execution_count": null,
   "id": "f32a693c-6288-4072-b5dd-4fd5bcc852e3",
   "metadata": {},
   "outputs": [],
   "source": [
    "from aim2dat.strct import Structure\n",
    "\n",
    "framework = Structure.from_file(\"files/strc/PBI3.xyz\")\n",
    "molecule = Structure.from_file(\"files/strc/CN2H5.xyz\")"
   ]
  },
  {
   "cell_type": "markdown",
   "id": "d083fd2e-b4c2-4639-b23c-a3158cfd2e79",
   "metadata": {},
   "source": [
    "### Example 1: Adding a Molecule into the Framework\n",
    "\n",
    "In this case, we demonstrate to add a molecule at a certain position. The center of the framework was chosen.\n"
   ]
  },
  {
   "cell_type": "code",
   "execution_count": null,
   "id": "1e6b2fcc-c36e-43ce-9811-8d33daf83610",
   "metadata": {},
   "outputs": [],
   "source": [
    "from aim2dat.strct.ext_manipulation import add_structure_position\n",
    "\n",
    "structure = add_structure_position(\n",
    "    framework,\n",
    "    position = [3.176186, 3.244215, 3.25149],\n",
    "    guest_structure = molecule\n",
    ")"
   ]
  },
  {
   "cell_type": "markdown",
   "id": "breeding-airline",
   "metadata": {},
   "source": [
    "This molecule is now included into the framework shown down below:"
   ]
  },
  {
   "cell_type": "code",
   "execution_count": null,
   "id": "1492af20-f470-4cec-a230-f2616d953ce5",
   "metadata": {},
   "outputs": [],
   "source": [
    "import matplotlib.pyplot as plt\n",
    "from ase.visualize.plot import plot_atoms\n",
    "\n",
    "fig, ax = plt.subplots()\n",
    "plot_atoms(structure.to_ase_atoms(), ax, radii=0.3, rotation=('45x,45y,0z'))"
   ]
  },
  {
   "cell_type": "markdown",
   "id": "ea7e04b0-f4fb-40a0-8916-a7df4411937c",
   "metadata": {},
   "source": [
    "### Example 2: Rotate a Molecule in a structure\n",
    "\n",
    "In this case, we demonstrate to rotate the new added molecule around its center with 90 degrees in the x-axis. For this we need to know the side indices of the structure.\n"
   ]
  },
  {
   "cell_type": "code",
   "execution_count": null,
   "id": "5f8e4be4-882d-4150-8260-4b7210bc684a",
   "metadata": {},
   "outputs": [],
   "source": [
    "from aim2dat.strct.ext_manipulation import rotate_structure\n",
    "\n",
    "rot_strct = rotate_structure(\n",
    "    structure,\n",
    "    angles = [90,0,0],\n",
    "    site_indices = [4, 5, 6, 7, 8, 9, 10, 11],\n",
    ")"
   ]
  },
  {
   "cell_type": "markdown",
   "id": "3a69a128-c422-492b-8f27-d0db8746235a",
   "metadata": {},
   "source": [
    "This molecule is now rotated in the framework shown down below:"
   ]
  },
  {
   "cell_type": "code",
   "execution_count": null,
   "id": "4fcfb2ff-2141-46d7-aafe-7fbb4fa466ab",
   "metadata": {},
   "outputs": [],
   "source": [
    "fig, ax = plt.subplots()\n",
    "plot_atoms(rot_strct.to_ase_atoms(), ax, radii=0.3, rotation=('45x,45y,0z'))"
   ]
  },
  {
   "cell_type": "markdown",
   "id": "473f5dd5-39d6-4ed3-b5f8-c512dc755be4",
   "metadata": {},
   "source": [
    "### Example 3: Rotate a sub structure of a crystal\n",
    "\n",
    "In this case, we demonstrate to rotate each linker molecule in the MOF-5 by 90 degrees around the rotation vector connecting the furthest carbon atoms. First, we need to load the new structure.\n"
   ]
  },
  {
   "cell_type": "code",
   "execution_count": null,
   "id": "1521df98-a72b-43f0-b59f-364f0ee1b9c0",
   "metadata": {},
   "outputs": [],
   "source": [
    "MOF5 = Structure.from_file(\"files/strc/MOF5_prim.xsf\")"
   ]
  },
  {
   "cell_type": "markdown",
   "id": "a69761e4-10f3-484c-9298-f64bd9fda40e",
   "metadata": {},
   "source": [
    "Now we can find each fragment of the structure by setting the start and end point to \"Zn\" and excluding not needed elements \"Zn\" and \"O\"."
   ]
  },
  {
   "cell_type": "code",
   "execution_count": null,
   "id": "5330ecb0-5e5e-4652-9b25-81ae273b3b2d",
   "metadata": {},
   "outputs": [],
   "source": [
    "from aim2dat.strct.ext_analysis import determine_molecular_fragments\n",
    "\n",
    "fragments = determine_molecular_fragments(\n",
    "    MOF5,\n",
    "    exclude_elements=[\"Zn\", \"O\"],\n",
    "    end_point_elements = \"Zn\",  \n",
    "    cn_method=\"atomic_radius\",\n",
    "    radius_type=\"chen_manz\",\n",
    ")"
   ]
  },
  {
   "cell_type": "markdown",
   "id": "07fba4c4-6fe0-4daf-8a39-0956a9dd8a67",
   "metadata": {},
   "source": [
    "With this information, we will find each connection pair and their connecting vector."
   ]
  },
  {
   "cell_type": "code",
   "execution_count": null,
   "id": "05635a3b-1f6f-4052-94c4-d3f42c8b91b5",
   "metadata": {},
   "outputs": [],
   "source": [
    "import numpy as np\n",
    "pairs = []\n",
    "rotation_vectors = []\n",
    "for frag in fragments:\n",
    "    max_dist = 0\n",
    "    for idx1, pos1 in zip(frag[\"site_indices\"], frag[\"positions\"]):\n",
    "        for idx2, pos2 in zip(frag[\"site_indices\"], frag[\"positions\"]):\n",
    "            if idx1 == idx2:\n",
    "                continue\n",
    "            dist = np.linalg.norm(np.array(pos1)-np.array(pos2))\n",
    "            if dist > max_dist:\n",
    "                paar = (idx1, idx2)\n",
    "                rot_vec = np.array(pos1)-np.array(pos2)\n",
    "                max_dist = dist\n",
    "    pairs.append(paar)\n",
    "    rotation_vectors.append(rot_vec)"
   ]
  },
  {
   "cell_type": "markdown",
   "id": "af33d7f3-3c71-4a86-9a31-20dfce1c0e27",
   "metadata": {},
   "source": [
    "Now we can iterate through all fragments and rotate them by 90 degrees. For this, we copy the original structure, so it will not be manipulated. In this case, we do not change the label, since each iteration would change each time."
   ]
  },
  {
   "cell_type": "code",
   "execution_count": null,
   "id": "4e5314fa-e203-416f-8446-4c7a0011ff31",
   "metadata": {},
   "outputs": [],
   "source": [
    "from copy import deepcopy\n",
    "from aim2dat.strct.ext_manipulation import rotate_structure\n",
    "\n",
    "rot_strct = deepcopy(MOF5)\n",
    "for pair, frag, rot_vec in zip(pairs, fragments, rotation_vectors):\n",
    "    rot_strct = rotate_structure(\n",
    "        rot_strct,\n",
    "        angles = 90,\n",
    "        site_indices = frag[\"site_indices\"],\n",
    "        origin = MOF5.get_positions()[pair[0]],\n",
    "        vector = rot_vec,\n",
    "        change_label = False,\n",
    "        wrap = True,\n",
    "    )"
   ]
  },
  {
   "cell_type": "markdown",
   "id": "1e6fed42-9859-47bd-b0d4-a2d4d4737c7b",
   "metadata": {},
   "source": [
    "Now we can compare before and after."
   ]
  },
  {
   "cell_type": "code",
   "execution_count": null,
   "id": "edf88c05-a196-4797-b5ce-759f9572cc0c",
   "metadata": {},
   "outputs": [],
   "source": [
    "fig, ax = plt.subplots(nrows=1, ncols=2)\n",
    "plot_atoms(MOF5.to_ase_atoms(), ax[0], radii=0.3, rotation=('45x,45y,0z'))\n",
    "plot_atoms(rot_strct.to_ase_atoms(), ax[1], radii=0.3, rotation=('45x,45y,0z'))"
   ]
  }
 ],
 "metadata": {
  "kernelspec": {
   "display_name": "Python 3 (ipykernel)",
   "language": "python",
   "name": "python3"
  },
  "language_info": {
   "codemirror_mode": {
    "name": "ipython",
    "version": 3
   },
   "file_extension": ".py",
   "mimetype": "text/x-python",
   "name": "python",
   "nbconvert_exporter": "python",
   "pygments_lexer": "ipython3",
   "version": "3.11.11"
  }
 },
 "nbformat": 4,
 "nbformat_minor": 5
}
