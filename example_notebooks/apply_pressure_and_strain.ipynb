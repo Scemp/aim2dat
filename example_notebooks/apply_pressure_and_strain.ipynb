{
 "cells": [
  {
   "cell_type": "code",
   "execution_count": 1,
   "id": "2007e4e6-f3c9-4e1b-a48a-11b4c844588e",
   "metadata": {},
   "outputs": [
    {
     "name": "stderr",
     "output_type": "stream",
     "text": [
      "/home/julia/miniconda3/envs/aim2dat/lib/python3.12/site-packages/tqdm/auto.py:21: TqdmWarning: IProgress not found. Please update jupyter and ipywidgets. See https://ipywidgets.readthedocs.io/en/stable/user_install.html\n",
      "  from .autonotebook import tqdm as notebook_tqdm\n"
     ]
    }
   ],
   "source": [
    "from aim2dat.strct import StructureCollection\n",
    "from aim2dat.strct import StructureOperations\n",
    "from aim2dat.strct.strct_manipulation import apply_pressure_or_strain\n",
    "import numpy as np\n"
   ]
  },
  {
   "cell_type": "code",
   "execution_count": 2,
   "id": "3c95079c-5c63-4c46-97ba-239b2a361f9c",
   "metadata": {},
   "outputs": [],
   "source": [
    "strct = StructureCollection()\n",
    "strct.append_from_file(\"Zn_MOF5_H\", \"Zn_MOF5_H_conv.xyz\")"
   ]
  },
  {
   "cell_type": "code",
   "execution_count": 3,
   "id": "1a4a8e0e-8eac-40b3-a3c4-e18659398042",
   "metadata": {},
   "outputs": [
    {
     "name": "stdout",
     "output_type": "stream",
     "text": [
      "Original lattice parameters:\n",
      "((26.076570788092, 0.0, 0.0), (0.0, 26.076570788092, 0.0), (0.0, 0.0, 26.076570788092))\n",
      "\n",
      "Lattice parameters after applying 10 GPa pressure:\n",
      "((24.44678511383625, 0.0, 0.0), (0.0, 24.44678511383625, 0.0), (0.0, 0.0, 24.44678511383625))\n"
     ]
    }
   ],
   "source": [
    "# Example 1: Apply a pressure of 10 GPa with a bulk modulus of 100 GPa.\n",
    "pressure_applied_structure = apply_pressure_or_strain(\n",
    "    strct[0],\n",
    "    pressure= 1, # Pressure in GPa.\n",
    "    bulk_modulus=16.0,  # Bulk modulus in GPa, MOF-5\n",
    "    change_label=True\n",
    ")\n",
    "\n",
    "# Display the initial and new lattice parameters.\n",
    "print(\"Original lattice parameters:\")\n",
    "print(strct[0].cell)\n",
    "print(\"\\nLattice parameters after applying 10 GPa pressure:\")\n",
    "print(pressure_applied_structure.cell)"
   ]
  },
  {
   "cell_type": "code",
   "execution_count": 4,
   "id": "4c383721-1a5b-4faf-93f8-24729107eb58",
   "metadata": {},
   "outputs": [
    {
     "name": "stdout",
     "output_type": "stream",
     "text": [
      "Original lattice parameters:\n",
      "((26.076570788092, 0.0, 0.0), (0.0, 26.076570788092, 0.0), (0.0, 0.0, 26.076570788092))\n",
      "\n",
      "Lattice parameters after applying anisotropic strain [0.02, -0.01, 0.03]:\n",
      "((26.598102203853838, 0.0, 0.0), (0.0, 25.815805080211078, 0.0), (0.0, 0.0, 26.85886791173476))\n"
     ]
    }
   ],
   "source": [
    "# Example 2: Apply anisotropic strain.\n",
    "anisotropic_strain_structure = apply_pressure_or_strain(\n",
    "    strct[0],\n",
    "    strain=[0.02, -0.01, 0.03],  # 2% increase along x, 1% decrease along y, 3% increase along z.\n",
    "    change_label=True\n",
    ")\n",
    "\n",
    "# Display the initial and new lattice parameters.\n",
    "print(\"Original lattice parameters:\")\n",
    "print(strct[0].cell)\n",
    "print(\"\\nLattice parameters after applying anisotropic strain [0.02, -0.01, 0.03]:\")\n",
    "print(anisotropic_strain_structure.cell)"
   ]
  },
  {
   "cell_type": "code",
   "execution_count": 5,
   "id": "3eb30670-a887-4c0c-85dd-b5f44a4bb4df",
   "metadata": {},
   "outputs": [
    {
     "name": "stdout",
     "output_type": "stream",
     "text": [
      "Original lattice parameters:\n",
      "((26.076570788092, 0.0, 0.0), (0.0, 26.076570788092, 0.0), (0.0, 0.0, 26.076570788092))\n",
      "\n",
      "Lattice parameters after applying the 3x3 strain tensor:\n",
      "((26.598102203853838, 0.26076570788092, 0.0), (0.26076570788092, 25.815805080211078, 0.0), (0.0, 0.52153141576184, 26.85886791173476))\n"
     ]
    }
   ],
   "source": [
    "# Example 3: Apply a direct 3x3 strain tensor with anisotropic strain and shear.\n",
    "strain_matrix = np.array([\n",
    "    [0.02, 0.01, 0.0],  # 2% strain along x, shear strain between x and y.\n",
    "    [0.01, -0.01, 0.0],  # -1% strain along y, shear strain between y and x.\n",
    "    [0.0, 0.02, 0.03]    # 2% strain along y, 3% strain along z.\n",
    "])\n",
    "anisotropic_strain_structure = apply_pressure_or_strain(\n",
    "    strct[0],\n",
    "    strain=strain_matrix,\n",
    "    change_label=True\n",
    ")\n",
    "\n",
    "# Display the initial and new lattice parameters.\n",
    "print(\"Original lattice parameters:\")\n",
    "print(strct[0].cell)\n",
    "print(\"\\nLattice parameters after applying the 3x3 strain tensor:\")\n",
    "print(anisotropic_strain_structure.cell)\n"
   ]
  }
 ],
 "metadata": {
  "kernelspec": {
   "display_name": "aim2dat",
   "language": "python",
   "name": "aim2dat"
  },
  "language_info": {
   "codemirror_mode": {
    "name": "ipython",
    "version": 3
   },
   "file_extension": ".py",
   "mimetype": "text/x-python",
   "name": "python",
   "nbconvert_exporter": "python",
   "pygments_lexer": "ipython3",
   "version": "3.12.4"
  }
 },
 "nbformat": 4,
 "nbformat_minor": 5
}
